{
 "cells": [
  {
   "cell_type": "code",
   "execution_count": 1,
   "id": "4ea9ec87-591d-496e-b40d-40b74fd8d876",
   "metadata": {},
   "outputs": [
    {
     "name": "stdout",
     "output_type": "stream",
     "text": [
      "Defaulting to user installation because normal site-packages is not writeable\n",
      "Requirement already satisfied: Numpy in c:\\programdata\\anaconda3\\lib\\site-packages (1.26.4)\n"
     ]
    }
   ],
   "source": [
    "#numpy stand for numercial python 2005 \n",
    "#work on array its is 50 time  faster than list,continous location,latest CPU architectures\n",
    "!pip install Numpy"
   ]
  },
  {
   "cell_type": "code",
   "execution_count": 11,
   "id": "fe0870e8-6e4c-4de2-8c4c-eba803a49f07",
   "metadata": {},
   "outputs": [
    {
     "name": "stdout",
     "output_type": "stream",
     "text": [
      "[1 2 3 4 5 6]\n"
     ]
    }
   ],
   "source": [
    "import numpy\n",
    "arr=numpy.array([1,2,3,4,5,6])\n",
    "print(arr)"
   ]
  },
  {
   "cell_type": "code",
   "execution_count": 12,
   "id": "a31e9ea4-d157-439e-b712-a3550194f500",
   "metadata": {},
   "outputs": [
    {
     "name": "stdout",
     "output_type": "stream",
     "text": [
      "[1 2 3 4 5 6]\n"
     ]
    }
   ],
   "source": [
    "import numpy as np\n",
    "arr=np.array([1,2,3,4,5,6])\n",
    "print(arr)"
   ]
  },
  {
   "cell_type": "code",
   "execution_count": 13,
   "id": "f7a8440c-0501-42e1-98fa-07b9110c3771",
   "metadata": {},
   "outputs": [
    {
     "name": "stdout",
     "output_type": "stream",
     "text": [
      "1.26.4\n"
     ]
    }
   ],
   "source": [
    "print(np.__version__)"
   ]
  },
  {
   "cell_type": "code",
   "execution_count": 14,
   "id": "375e8e81-4acc-4f69-b5fd-f57b9dab5c15",
   "metadata": {},
   "outputs": [
    {
     "name": "stdout",
     "output_type": "stream",
     "text": [
      "[1 3 5 7 9]\n",
      "<class 'numpy.ndarray'>\n"
     ]
    }
   ],
   "source": [
    "arr3=np.array([1,3,5,7,9])\n",
    "print(arr3)\n",
    "print(type(arr3))"
   ]
  },
  {
   "cell_type": "code",
   "execution_count": 21,
   "id": "7014a53f-faf7-4763-8390-c3827405cb69",
   "metadata": {},
   "outputs": [
    {
     "name": "stdout",
     "output_type": "stream",
     "text": [
      "list [1 2 3 4 5] set {2, 4, 5, 6, 7} tuple [1 3 5 7 9]\n",
      "<class 'numpy.ndarray'>\n",
      "<class 'numpy.ndarray'>\n",
      "<class 'numpy.ndarray'>\n"
     ]
    }
   ],
   "source": [
    "import numpy as np\n",
    "list= np.array([1,2,3,4,5])\n",
    "set= np.array({2,4,5,6,7})\n",
    "tuple= np.array((1,3,5,7,9))\n",
    "print('list',list,'set',set,'tuple',tuple)\n",
    "print(type(list))\n",
    "print(type(set))\n",
    "print(type(tuple))"
   ]
  },
  {
   "cell_type": "code",
   "execution_count": 39,
   "id": "11290fee-0034-4471-a5b6-35cccc7f23c4",
   "metadata": {},
   "outputs": [
    {
     "name": "stdout",
     "output_type": "stream",
     "text": [
      "43\n",
      "0\n",
      "[[1 2 3 4]\n",
      " [1 2 3 5]]\n",
      "2\n",
      "[[[1 2 3]\n",
      "  [1 2 3]\n",
      "  [2 4 5]]]\n",
      "3\n"
     ]
    }
   ],
   "source": [
    "# dimensions 0D array\n",
    "import numpy as np\n",
    "arr4=np.array(43)\n",
    "print(arr4)\n",
    "print(arr4.ndim)\n",
    "arr5=np.array([[1,2,3,4],[1,2,3,5]])\n",
    "print(arr5)\n",
    "print(arr5.ndim)\n",
    "arr6=np.array([[[1,2,3],[1,2,3],[2,4,5]]])\n",
    "print(arr6)\n",
    "print(arr6.ndim)"
   ]
  },
  {
   "cell_type": "code",
   "execution_count": 38,
   "id": "aee3aad1-de35-436a-a695-4b14c9330e26",
   "metadata": {},
   "outputs": [
    {
     "name": "stdout",
     "output_type": "stream",
     "text": [
      "[[[[[1 2 3 4 5]\n",
      "    [2 3 4 5 6]\n",
      "    [1 2 3 4 5]\n",
      "    [2 3 4 5 6]\n",
      "    [2 3 4 5 6]\n",
      "    [1 1 1 1 1]]]]]\n",
      "5\n"
     ]
    }
   ],
   "source": [
    "arr1=np.array([[[[[1,2,3,4,5],[2,3,4,5,6],[1,2,3,4,5],[2,3,4,5,6],[2,3,4,5,6],[1,1,1,1,1]]]]])\n",
    "print(arr1)\n",
    "print(arr1.ndim)"
   ]
  },
  {
   "cell_type": "code",
   "execution_count": 41,
   "id": "6ab48f61-70da-4aa0-aee5-10ab2aac8c6e",
   "metadata": {},
   "outputs": [
    {
     "name": "stdout",
     "output_type": "stream",
     "text": [
      "1\n"
     ]
    }
   ],
   "source": [
    "arr4=np.array([1,2,3,4,5])\n",
    "print(arr4[0])"
   ]
  },
  {
   "cell_type": "code",
   "execution_count": 49,
   "id": "2995694c-58c6-4220-8328-d3be34b76997",
   "metadata": {},
   "outputs": [
    {
     "name": "stdout",
     "output_type": "stream",
     "text": [
      "[6 7]\n",
      "49\n",
      "2.8284271247461903\n"
     ]
    }
   ],
   "source": [
    "A1=np.array([4,5,6,7,8,9])\n",
    "print(A1[2:4])\n",
    "print(A1[3]**2)\n",
    "print(np.sqrt(A1[4]))"
   ]
  },
  {
   "cell_type": "code",
   "execution_count": 58,
   "id": "695a9ff9-c1fd-48ea-868f-793f9f62788f",
   "metadata": {},
   "outputs": [
    {
     "name": "stdout",
     "output_type": "stream",
     "text": [
      "5th element of 2 row  5\n"
     ]
    }
   ],
   "source": [
    "arr9 = np.array([[1,2,3,4],[1,2,3,5]])\n",
    "print(\"5th element of 2 row \", arr9[1,3])"
   ]
  },
  {
   "cell_type": "code",
   "execution_count": 63,
   "id": "4d73a220-7d54-45ec-bad5-567b824e76b7",
   "metadata": {},
   "outputs": [
    {
     "name": "stdout",
     "output_type": "stream",
     "text": [
      "[2 3]\n",
      "[3 5]\n"
     ]
    }
   ],
   "source": [
    "arr9 = np.array([[1,2,3,4],[1,2,3,5]])\n",
    "print(arr9[0,1:3])\n",
    "print(arr9[1,2:4])"
   ]
  },
  {
   "cell_type": "code",
   "execution_count": 80,
   "id": "9dcfb38a-6406-4fc9-a83d-2519d370eeb9",
   "metadata": {},
   "outputs": [
    {
     "name": "stdout",
     "output_type": "stream",
     "text": [
      "[5 6 7]\n",
      "int32\n"
     ]
    }
   ],
   "source": [
    "B1=np.array([[[1,2,3,4,5],[2,2,2,2,2],[4,5,6,7,8]]])\n",
    "print(B1[0,2,1:4])\n",
    "print(B1.dtype)\n"
   ]
  },
  {
   "cell_type": "code",
   "execution_count": 85,
   "id": "b3c76b28-3f2a-43b0-8961-b238c4b8590a",
   "metadata": {},
   "outputs": [
    {
     "name": "stdout",
     "output_type": "stream",
     "text": [
      "[b'1' b'2' b'3' b'4' b'5']\n",
      "|S1\n"
     ]
    }
   ],
   "source": [
    "B1=np.array([1,2,3,4,5],dtype='S')\n",
    "print(B1)\n",
    "print(B1.dtype)"
   ]
  },
  {
   "cell_type": "code",
   "execution_count": 5,
   "id": "4b0f3f1d-6035-4ea1-be7a-9490aa5ecb09",
   "metadata": {},
   "outputs": [
    {
     "name": "stdout",
     "output_type": "stream",
     "text": [
      "[1 2 3 4 5]\n",
      "int64\n"
     ]
    }
   ],
   "source": [
    "import numpy as np\n",
    "B1=np.array([1.2,2.4,3.5,4,5],dtype='i8')\n",
    "print(B1)\n",
    "print(B1.dtype)"
   ]
  },
  {
   "cell_type": "code",
   "execution_count": 7,
   "id": "ff8da931-d584-45fd-86df-b5956928ffa9",
   "metadata": {},
   "outputs": [],
   "source": [
    "# !pip install (library name) --upgrade      (command for upgrading library)"
   ]
  },
  {
   "cell_type": "code",
   "execution_count": 13,
   "id": "cec7eae9-4c4e-4bdd-8456-c496c42d2a62",
   "metadata": {},
   "outputs": [
    {
     "name": "stdout",
     "output_type": "stream",
     "text": [
      "(1, 1, 4, 4)\n",
      "(1, 1, 4, 4)\n"
     ]
    }
   ],
   "source": [
    "# give shape to array\n",
    "import numpy as np\n",
    "arr=np.array([[[[1,2,3,4],[5,6,7,8],[1,2,3,4],[5,6,7,8]]]])\n",
    "print(arr.shape)\n",
    "arr1=np.array([1,2,3,4])\n",
    "print(arr.shape)"
   ]
  },
  {
   "cell_type": "code",
   "execution_count": 18,
   "id": "afa1939b-b7ec-4f66-a60a-0f94864e8e85",
   "metadata": {},
   "outputs": [
    {
     "name": "stdout",
     "output_type": "stream",
     "text": [
      "[[[[[1 2 3 4]]]]]\n",
      "The shape of array is: (1, 1, 1, 1, 4)\n"
     ]
    }
   ],
   "source": [
    "arr2=np.array([1,2,3,4],ndmin=5)\n",
    "print(arr2)\n",
    "print(\"The shape of array is:\",arr2.shape)"
   ]
  },
  {
   "cell_type": "code",
   "execution_count": 25,
   "id": "6340df25-388e-46ed-88d8-2eb260bbec19",
   "metadata": {},
   "outputs": [
    {
     "name": "stdout",
     "output_type": "stream",
     "text": [
      "[[1 2 3]\n",
      " [4 5 6]]\n"
     ]
    }
   ],
   "source": [
    "# reshaping of array\n",
    "Q=np.array([1,2,3,4,5,6])\n",
    "new_Q=Q.reshape(2,3)\n",
    "print(new_Q)"
   ]
  },
  {
   "cell_type": "code",
   "execution_count": 26,
   "id": "982bea26-48ad-45ba-ae17-86130b027353",
   "metadata": {},
   "outputs": [
    {
     "name": "stdout",
     "output_type": "stream",
     "text": [
      "[1 2 3 4 5 6 7 8]\n"
     ]
    }
   ],
   "source": [
    "R=np.array([1,2,3,4,5,6,7,8])\n",
    "print(R.reshape(2,4).base)"
   ]
  },
  {
   "cell_type": "code",
   "execution_count": 28,
   "id": "c9a8afde-8186-494b-8af4-e8b42519a7d0",
   "metadata": {},
   "outputs": [
    {
     "name": "stdout",
     "output_type": "stream",
     "text": [
      "1\n",
      "2\n",
      "3\n",
      "4\n"
     ]
    }
   ],
   "source": [
    "#iterating array 1D array\n",
    "Y=np.array([1,2,3,4])\n",
    "for x in Y:\n",
    "    print(x)"
   ]
  },
  {
   "cell_type": "code",
   "execution_count": 32,
   "id": "562cda97-091e-479e-b613-15419df74340",
   "metadata": {},
   "outputs": [
    {
     "name": "stdout",
     "output_type": "stream",
     "text": [
      "1\n",
      "2\n",
      "3\n",
      "4\n",
      "5\n",
      "6\n",
      "7\n",
      "8\n",
      "5\n",
      "5\n",
      "5\n",
      "5\n"
     ]
    }
   ],
   "source": [
    "#2D array\n",
    "arr3=np.array([[[1,2,3,4],[5,6,7,8],[5,5,5,5]]])\n",
    "for x in arr3:\n",
    "    for y in x:\n",
    "        for z in y:\n",
    "            print(z)"
   ]
  },
  {
   "cell_type": "code",
   "execution_count": 34,
   "id": "0955305a-076e-4bcc-8d17-404bb10621f2",
   "metadata": {},
   "outputs": [
    {
     "name": "stdout",
     "output_type": "stream",
     "text": [
      "[1 2 3 4 5 6]\n",
      "[5 7 9]\n"
     ]
    }
   ],
   "source": [
    "#concatenate is used for two array\n",
    "A1=np.array([1,2,3])\n",
    "A2=np.array([4,5,6])\n",
    "C1=np.concatenate((A1,A2))\n",
    "print(C1)\n",
    "C2=A1+A2\n",
    "print(C2)"
   ]
  },
  {
   "cell_type": "code",
   "execution_count": 39,
   "id": "04339411-05a6-4f7d-a863-51056f4a56d7",
   "metadata": {},
   "outputs": [
    {
     "name": "stdout",
     "output_type": "stream",
     "text": [
      "[[1 2 5 6]\n",
      " [3 4 7 8]]\n",
      "[[[1 5]\n",
      "  [2 6]]\n",
      "\n",
      " [[3 7]\n",
      "  [4 8]]]\n"
     ]
    }
   ],
   "source": [
    "R1=np.array([[1,2],[3,4]])\n",
    "R2=np.array([[5,6],[7,8]])\n",
    "R3=np.concatenate((R1,R2),axis=1)\n",
    "print(R3)\n",
    "R1_new = np.expand_dims(R1, axis=2)\n",
    "R2_new = np.expand_dims(R2, axis=2)\n",
    "R4 = np.concatenate((R1_new, R2_new), axis=2)\n",
    "print(R4)"
   ]
  },
  {
   "cell_type": "code",
   "execution_count": 41,
   "id": "05272373-35d9-4b52-8d64-0383cbe7014c",
   "metadata": {},
   "outputs": [
    {
     "name": "stdout",
     "output_type": "stream",
     "text": [
      "[array([1]), array([2]), array([3]), array([4]), array([5]), array([], dtype=int32)]\n"
     ]
    }
   ],
   "source": [
    "# for splitting array  we use (array_split) command\n",
    "R5=np.array([1,2,3,4,5])\n",
    "newR=np.array_split(R5,6)\n",
    "print(newR)"
   ]
  },
  {
   "cell_type": "code",
   "execution_count": 43,
   "id": "5b6d612b-99fe-41e6-818a-1751b5898841",
   "metadata": {},
   "outputs": [
    {
     "name": "stdout",
     "output_type": "stream",
     "text": [
      "(array([3, 5, 6, 7], dtype=int64),)\n",
      "(array([], dtype=int64),)\n"
     ]
    }
   ],
   "source": [
    "arr9=np.array([1,2,3,4,5,4,4,4])\n",
    "x=np.where(arr9==4)\n",
    "print(x)\n",
    "x2=np.where(arr9==6)\n",
    "print(x2)"
   ]
  },
  {
   "cell_type": "code",
   "execution_count": 48,
   "id": "4e15de1e-f8fb-4628-ab80-24df4ecf951a",
   "metadata": {},
   "outputs": [
    {
     "name": "stdout",
     "output_type": "stream",
     "text": [
      "(array([0, 2, 4, 6], dtype=int64),)\n"
     ]
    }
   ],
   "source": [
    "Q1=np.array([1,2,3,4,5,6,7,8])\n",
    "x5=np.where(Q1%2!=0)\n",
    "print(x5)"
   ]
  },
  {
   "cell_type": "code",
   "execution_count": 51,
   "id": "ff197413-0d58-4f5e-9ddc-19703e9de180",
   "metadata": {},
   "outputs": [
    {
     "name": "stdout",
     "output_type": "stream",
     "text": [
      "[8 7 6 5 4 3 2 1]\n"
     ]
    }
   ],
   "source": [
    "Q1=np.array([1,2,3,4,5,6,7,8])\n",
    "print(np.sort(Q1)[::-1])"
   ]
  },
  {
   "cell_type": "code",
   "execution_count": 53,
   "id": "473a5c97-ccdb-4d6d-9a31-6ef19393b088",
   "metadata": {},
   "outputs": [
    {
     "name": "stdout",
     "output_type": "stream",
     "text": [
      "[5 4 4 4 4 4 3 2 1]\n"
     ]
    }
   ],
   "source": [
    "Q1=np.array([1,2,4,3,4,5,4,4,4])\n",
    "print(np.sort(Q1)[::-1])"
   ]
  },
  {
   "cell_type": "code",
   "execution_count": 55,
   "id": "f179dd63-e162-4daf-a1f3-58b181af0119",
   "metadata": {},
   "outputs": [
    {
     "name": "stdout",
     "output_type": "stream",
     "text": [
      "['apple' 'banana' 'cherry']\n"
     ]
    }
   ],
   "source": [
    "Q7=np.array(['banana','cherry','apple'])\n",
    "x6=np.sort(Q7)\n",
    "print(x6)"
   ]
  },
  {
   "cell_type": "code",
   "execution_count": 59,
   "id": "d6b92be7-f55f-4068-9ba7-768e36d19f0e",
   "metadata": {},
   "outputs": [
    {
     "name": "stdout",
     "output_type": "stream",
     "text": [
      "[41 42 44]\n"
     ]
    }
   ],
   "source": [
    "# filtering array\n",
    "Q9=np.array([41,42,43,44])\n",
    "x4=[True,True,False,True]\n",
    "new_Q9=Q9[x4]\n",
    "print(new_Q9)"
   ]
  },
  {
   "cell_type": "code",
   "execution_count": 64,
   "id": "eece6639-7d56-44f3-8d5b-c18f71570e6c",
   "metadata": {},
   "outputs": [
    {
     "name": "stdout",
     "output_type": "stream",
     "text": [
      "[False  True False  True False  True False  True False]\n"
     ]
    }
   ],
   "source": [
    "Q10=np.array([1,2,3,4,5,6,7,8,9])\n",
    "x7=Q10 % 2 == 0\n",
    "print(x7)   "
   ]
  },
  {
   "cell_type": "code",
   "execution_count": null,
   "id": "723d54ca-1dc1-4d4f-a3ae-17924d5dc80f",
   "metadata": {},
   "outputs": [],
   "source": []
  }
 ],
 "metadata": {
  "kernelspec": {
   "display_name": "Python 3 (ipykernel)",
   "language": "python",
   "name": "python3"
  },
  "language_info": {
   "codemirror_mode": {
    "name": "ipython",
    "version": 3
   },
   "file_extension": ".py",
   "mimetype": "text/x-python",
   "name": "python",
   "nbconvert_exporter": "python",
   "pygments_lexer": "ipython3",
   "version": "3.12.4"
  }
 },
 "nbformat": 4,
 "nbformat_minor": 5
}
